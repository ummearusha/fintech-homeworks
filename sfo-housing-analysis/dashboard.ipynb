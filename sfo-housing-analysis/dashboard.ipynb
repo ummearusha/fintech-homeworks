{
 "cells": [
  {
   "cell_type": "markdown",
   "metadata": {},
   "source": [
    "# San Francisco Rental Prices Dashboard\n",
    "\n",
    "In this notebook, you will compile the visualizations from the previous analysis into functions that can be used for a Panel dashboard."
   ]
  },
  {
   "cell_type": "code",
   "execution_count": 10,
   "metadata": {},
   "outputs": [],
   "source": [
    "# imports\n",
    "import panel as pn\n",
    "pn.extension('plotly')\n",
    "import plotly.express as px\n",
    "import pandas as pd\n",
    "import numpy as np\n",
    "import hvplot.pandas\n",
    "import matplotlib.pyplot as plt\n",
    "import os\n",
    "from pathlib import Path\n",
    "from dotenv import load_dotenv"
   ]
  },
  {
   "cell_type": "code",
   "execution_count": 11,
   "metadata": {},
   "outputs": [],
   "source": [
    "# Read the Mapbox API key\n",
    "load_dotenv()\n",
    "mapbox_token = os.getenv(\"access_token\")"
   ]
  },
  {
   "cell_type": "markdown",
   "metadata": {},
   "source": [
    "# Import Data"
   ]
  },
  {
   "cell_type": "code",
   "execution_count": 12,
   "metadata": {},
   "outputs": [],
   "source": [
    "# Import the CSVs to Pandas DataFrames\n",
    "sfo_file_path = Path(\"Data/sfo_neighborhoods_census_data.csv\")\n",
    "sfo_data = pd.read_csv(sfo_file_path, index_col=\"year\")\n",
    "\n",
    "nh_file_path = Path(\"Data/neighborhoods_coordinates.csv\")\n",
    "df_neighborhood_locations = pd.read_csv(nh_file_path)"
   ]
  },
  {
   "cell_type": "markdown",
   "metadata": {},
   "source": [
    "- - -"
   ]
  },
  {
   "cell_type": "markdown",
   "metadata": {},
   "source": [
    "## Panel Visualizations\n",
    "\n",
    "In this section, you will copy the code for each plot type from your analysis notebook and place it into separate functions that Panel can use to create panes for the dashboard. \n",
    "\n",
    "These functions will convert the plot object to a Panel pane.\n",
    "\n",
    "Be sure to include any DataFrame transformation/manipulation code required along with the plotting code.\n",
    "\n",
    "Return a Panel pane object from each function that can be used to build the dashboard.\n",
    "\n",
    "Note: Remove any `.show()` lines from the code. We want to return the plots instead of showing them. The Panel dashboard will then display the plots."
   ]
  },
  {
   "cell_type": "code",
   "execution_count": 13,
   "metadata": {},
   "outputs": [],
   "source": [
    "# Define Panel Visualization Functions\n",
    "\n",
    "def housing_units_per_year():\n",
    "    \n",
    "    \"\"\"Housing Units Per Year.\"\"\"\n",
    "    housing_units_per_year_data = sfo_data.drop(['neighborhood','sale_price_sqr_foot','gross_rent'], 1, inplace=False).groupby(by = 'year').mean()\n",
    "    housing_units_per_year = housing_units_per_year_data.hvplot.bar(x='year',\n",
    "                                                           y='housing_units',\n",
    "                                                           xlabel= \"Year\",\n",
    "                                                           ylabel = \"Housing Units\",\n",
    "                                                           ylim={370000,385000},rot=90,\n",
    "                                  title=(\"Housing Units in San Francisco from 2010 to 2016\")).opts(yformatter=\"%.0f\")\n",
    "    return housing_units_per_year\n",
    "\n",
    "    \n",
    "def average_grossrent():\n",
    "    \"\"\"Average Gross Rent in San Francisco Per Year.\"\"\"\n",
    "    average_grossrent_salesprice_data = sfo_data.groupby('year').agg({'gross_rent' : 'mean','sale_price_sqr_foot' : 'mean'})\n",
    "\n",
    "    average_grossrent = average_grossrent_salesprice_data.hvplot(x='year',y='gross_rent',xlabel= \"Year\",ylabel = \"Gross Rent\")\n",
    "    return average_grossrent\n",
    "\n",
    "def average_salesprice():\n",
    "    \"\"\"Average Sales Price Per Year.\"\"\"\n",
    "    \n",
    "    average_grossrent_salesprice_data = sfo_data.groupby('year').agg({'gross_rent' : 'mean','sale_price_sqr_foot' : 'mean'})\n",
    "\n",
    "    average_salesprice = average_grossrent_salesprice_data.hvplot(x='year',y='sale_price_sqr_foot',xlabel= \"Year\",ylabel = \"Average Sale Price\")\n",
    "    return average_salesprice\n",
    "\n",
    "def average_price_by_neighborhood():\n",
    "    \"\"\"Average Prices by Neighborhood.\"\"\"\n",
    "    grouped_nh_df_data = sfo_data.groupby(['year', 'neighborhood']).mean()\n",
    "    grouped_nh_df_data = grouped_nh_df_data.reset_index()\n",
    "    #grouped_nh_df_data.head()    \n",
    "    average_price_by_neighborhood = grouped_nh_df_data.hvplot(x='year', y='sale_price_sqr_foot', xlabel= \"Year\", ylabel = \"Average Sale Price\", groupby=\"neighborhood\")\n",
    "    return average_price_by_neighborhood\n",
    "\n",
    "def top_most_expensive_neighborhoods():\n",
    "    \"\"\"Top 10 Most Expensive Neighborhoods.\"\"\"\n",
    "    grouped_nh_df_data = sfo_data.groupby(['year', 'neighborhood']).mean()\n",
    "    grouped_nh_df_data = grouped_nh_df_data.reset_index()\n",
    "    top_10_expensive_nh = grouped_nh_df_data.nlargest(10,'sale_price_sqr_foot').set_index(np.arange(0,10))\n",
    "    top_most_expensive_neighborhoods = top_10_expensive_nh.hvplot.bar(x='neighborhood', \n",
    "                                  y='sale_price_sqr_foot',\n",
    "                                  xlabel= \"Neighborhood\", \n",
    "                                  ylabel = \"Sale Price per Square Foot\",\n",
    "                                  ylim={1000,2300},rot=90,\n",
    "                                  title=(\"Top 10 Expensive Neighborhood\")).opts(yformatter=\"%.0f\")\n",
    "    return top_most_expensive_neighborhoods\n",
    "\n",
    "\n",
    "def parallel_coordinates():\n",
    "    \"\"\"Parallel Coordinates Plot.\"\"\"\n",
    "    grouped_nh_df_data = sfo_data.groupby(['year', 'neighborhood']).mean()\n",
    "    grouped_nh_df_data = grouped_nh_df_data.reset_index()\n",
    "    top_10_expensive_nh = grouped_nh_df_data.nlargest(10,'sale_price_sqr_foot').set_index(np.arange(0,10))\n",
    "    px.parallel_coordinates(top_10_expensive_nh, color='sale_price_sqr_foot')\n",
    "    return parallel_coordinates\n",
    "\n",
    "def parallel_categories():\n",
    "    \"\"\"Parallel Categories Plot.\"\"\"\n",
    "    grouped_nh_df_data = sfo_data.groupby(['year', 'neighborhood']).mean()\n",
    "    grouped_nh_df_data = grouped_nh_df_data.reset_index()\n",
    "    top_10_expensive_nh = grouped_nh_df_data.nlargest(10,'sale_price_sqr_foot').set_index(np.arange(0,10))\n",
    "    \n",
    "   \n",
    "    data = top_10_expensive_nh[[\"neighborhood\", \"sale_price_sqr_foot\", \"housing_units\", \"gross_rent\"]]\n",
    "    px.parallel_categories(\n",
    "        data,dimensions=[\"neighborhood\", \"sale_price_sqr_foot\", \"housing_units\", \"gross_rent\"],\n",
    "        color=\"sale_price_sqr_foot\"\n",
    "    )\n",
    "    return parallel_categories\n",
    "\n",
    "def neighborhood_map():\n",
    "    \"\"\"Neighborhood Map\"\"\"\n",
    "    df_neighborhood_locations = pd.read_csv(nh_file_path)\n",
    "    df_neighborhood_locations = df_neighborhood_locations.rename(columns = {\"Neighborhood\" : \"neighborhood\"})\n",
    "    df_neighborhood_locations.set_index(\"neighborhood\")\n",
    "    \n",
    "    nh_df = pd.read_csv(sfo_file_path,index_col=\"neighborhood\")\n",
    "    nh_df = nh_df.drop('year' , 1, inplace=False)\n",
    "    nh_df = nh_df.groupby(['neighborhood']).mean()\n",
    "    \n",
    "    joined_df = df_neighborhood_locations.join(nh_df, on=\"neighborhood\")\n",
    "    joined_df = joined_df.dropna()\n",
    "    # Plot Data\n",
    "    neighborhood_map = px.scatter_mapbox(\n",
    "        joined_df,\n",
    "        lat=\"Lat\",\n",
    "        lon=\"Lon\",\n",
    "        size=\"sale_price_sqr_foot\",\n",
    "        color=\"gross_rent\",\n",
    "        zoom=10\n",
    "    )\n",
    "    return neighborhood_map"
   ]
  },
  {
   "cell_type": "markdown",
   "metadata": {},
   "source": [
    "## Panel Dashboard\n",
    "\n",
    "In this section, you will combine all of the plots into a single dashboard view using Panel. Be creative with your dashboard design!"
   ]
  },
  {
   "cell_type": "code",
   "execution_count": 14,
   "metadata": {},
   "outputs": [],
   "source": [
    "# Create panels to structure the layout of the dashboard\n",
    "averagesales_rent_column = pn.Column(\n",
    "    \"## Housing Units Per Year,Average Gross Rent in San Francisco Per Year,Average Sales Price Per Year\" ,\n",
    "    housing_units_per_year(), \n",
    "    average_grossrent(),\n",
    "    average_salesprice()\n",
    ")\n",
    "\n",
    "neighborhood_column = pn.Column(\n",
    "    \"## Average Prices by Neighborhood and Top 10 Most Expensive Neighborhoods\",\n",
    "    average_price_by_neighborhood(),\n",
    "    top_most_expensive_neighborhoods()\n",
    "#   neighborhood_map()\n",
    ")\n",
    "\n",
    "\n",
    "#parallelplot_column = pn.Column(\n",
    "#    \"## Parallel Plots\",\n",
    "#    parallel_coordinates()\n",
    "#    parallel_categories()\n",
    "#)\n"
   ]
  },
  {
   "cell_type": "markdown",
   "metadata": {},
   "source": [
    "## Serve the Panel Dashboard"
   ]
  },
  {
   "cell_type": "code",
   "execution_count": 17,
   "metadata": {},
   "outputs": [
    {
     "name": "stdout",
     "output_type": "stream",
     "text": [
      "Launching server at http://localhost:51675\n"
     ]
    },
    {
     "data": {
      "text/plain": [
       "<bokeh.server.server.Server at 0x123489350>"
      ]
     },
     "execution_count": 17,
     "metadata": {},
     "output_type": "execute_result"
    }
   ],
   "source": [
    "\n",
    "dashboard = pn.Tabs(\n",
    "    (\"SF Housing Analysis\", averagesales_rent_column),\n",
    "    (\"SF Neighborhood\", neighborhood_column)    \n",
    "#    (\"SF Parallel Plots\", parallelplot_column)\n",
    ")\n",
    "dashboard.show()"
   ]
  },
  {
   "cell_type": "code",
   "execution_count": null,
   "metadata": {},
   "outputs": [],
   "source": []
  }
 ],
 "metadata": {
  "file_extension": ".py",
  "kernelspec": {
   "display_name": "Python [conda env:pyvizenv]",
   "language": "python",
   "name": "conda-env-pyvizenv-py"
  },
  "language_info": {
   "codemirror_mode": {
    "name": "ipython",
    "version": 3
   },
   "file_extension": ".py",
   "mimetype": "text/x-python",
   "name": "python",
   "nbconvert_exporter": "python",
   "pygments_lexer": "ipython3",
   "version": "3.7.7"
  },
  "mimetype": "text/x-python",
  "name": "python",
  "npconvert_exporter": "python",
  "pygments_lexer": "ipython3",
  "version": 3
 },
 "nbformat": 4,
 "nbformat_minor": 4
}
